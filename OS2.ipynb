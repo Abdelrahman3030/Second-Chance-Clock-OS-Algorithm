{
 "cells": [
  {
   "cell_type": "code",
   "execution_count": 3,
   "id": "e45daf10-006e-409b-8b4f-dcc0532b436c",
   "metadata": {},
   "outputs": [
    {
     "name": "stdin",
     "output_type": "stream",
     "text": [
      "Enter the number of page frames:  4\n",
      "Enter the reference string (space-separated integers):  1 6 2 4 1 5 4 1 2 3 5 2 4\n"
     ]
    },
    {
     "name": "stdout",
     "output_type": "stream",
     "text": [
      "Number of Page Faults: 9\n",
      "Current State of Page Frames: [5, 4, 3, 2]\n",
      "Current State of Reference Bits: [0, 1, 1, 1]\n"
     ]
    }
   ],
   "source": [
    "class SecondChance:\n",
    "    def __init__(self, capacity):\n",
    "        self.capacity = capacity\n",
    "        self.page_frames = []\n",
    "        self.reference_bits = []\n",
    "        self.clock_hand = 0\n",
    "        self.page_faults = 0\n",
    "\n",
    "    def access_page(self, page):\n",
    "        if page in self.page_frames:\n",
    "            index = self.page_frames.index(page)\n",
    "            self.reference_bits[index] = 1\n",
    "        else:\n",
    "            self.page_faults += 1\n",
    "            if len(self.page_frames) < self.capacity:\n",
    "                self.page_frames.append(page)\n",
    "                self.reference_bits.append(1)\n",
    "            else:\n",
    "                while self.reference_bits[self.clock_hand] == 1:\n",
    "                    self.reference_bits[self.clock_hand] = 0\n",
    "                    self.clock_hand = (self.clock_hand + 1) % self.capacity\n",
    "                self.page_frames[self.clock_hand] = page\n",
    "                self.reference_bits[self.clock_hand] = 1\n",
    "                self.clock_hand = (self.clock_hand + 1) % self.capacity\n",
    "    def get_page_faults(self):\n",
    "        return self.page_faults\n",
    "    def get_state(self):\n",
    "        return self.page_frames, self.reference_bits\n",
    "N = int(input(\"Enter the number of page frames: \"))\n",
    "\n",
    "reference_string = input(\"Enter the reference string (space-separated integers): \")\n",
    "reference_list = list(map(int, reference_string.split()))\n",
    "\n",
    "second_chance = SecondChance(N)\n",
    "for page in reference_list:\n",
    "    second_chance.access_page(page)\n",
    "\n",
    "page_faults = second_chance.get_page_faults()\n",
    "current_state = second_chance.get_state()\n",
    "\n",
    "print(\"Number of Page Faults:\", page_faults)\n",
    "print(\"Current State of Page Frames:\", current_state[0])\n",
    "print(\"Current State of Reference Bits:\", current_state[1])"
   ]
  },
  {
   "cell_type": "code",
   "execution_count": null,
   "id": "7b539b6d-f665-4cfe-bfac-f106b0c6022a",
   "metadata": {},
   "outputs": [],
   "source": []
  }
 ],
 "metadata": {
  "kernelspec": {
   "display_name": "Python 3 (ipykernel)",
   "language": "python",
   "name": "python3"
  },
  "language_info": {
   "codemirror_mode": {
    "name": "ipython",
    "version": 3
   },
   "file_extension": ".py",
   "mimetype": "text/x-python",
   "name": "python",
   "nbconvert_exporter": "python",
   "pygments_lexer": "ipython3",
   "version": "3.11.5"
  }
 },
 "nbformat": 4,
 "nbformat_minor": 5
}
