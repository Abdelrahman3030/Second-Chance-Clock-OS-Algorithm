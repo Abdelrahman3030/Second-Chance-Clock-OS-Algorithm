class SecondChance:
    def __init__(self, capacity):
        self.capacity = capacity
        self.page_frames = []
        self.reference_bits = []
        self.clock_hand = 0
        self.page_faults = 0

    def access_page(self, page):
        if page in self.page_frames:
            index = self.page_frames.index(page)
            self.reference_bits[index] = 1
        else:
            self.page_faults += 1
            if len(self.page_frames) < self.capacity:
                self.page_frames.append(page)
                self.reference_bits.append(1)
            else:
                while self.reference_bits[self.clock_hand] == 1:
                    self.reference_bits[self.clock_hand] = 0
                    self.clock_hand = (self.clock_hand + 1) % self.capacity
                self.page_frames[self.clock_hand] = page
                self.reference_bits[self.clock_hand] = 1
                self.clock_hand = (self.clock_hand + 1) % self.capacity
    def get_page_faults(self):
        return self.page_faults
    def get_state(self):
        return self.page_frames, self.reference_bits
N = int(input("Enter the number of page frames: "))

reference_string = input("Enter the reference string (space-separated integers): ")
reference_list = list(map(int, reference_string.split()))

second_chance = SecondChance(N)
for page in reference_list:
    second_chance.access_page(page)

page_faults = second_chance.get_page_faults()
current_state = second_chance.get_state()

print("Number of Page Faults:", page_faults)
print("Current State of Page Frames:", current_state[0])
print("Current State of Reference Bits:", current_state[1])
